{
 "cells": [
  {
   "cell_type": "code",
   "execution_count": 1,
   "id": "cacccdfa-4c90-42c5-8d1f-9fc319e6e8fd",
   "metadata": {},
   "outputs": [],
   "source": [
    "import openai"
   ]
  },
  {
   "cell_type": "code",
   "execution_count": 2,
   "id": "cef075ec-7d14-4e28-ae74-a8abd36f3710",
   "metadata": {},
   "outputs": [],
   "source": [
    "from openai import OpenAI"
   ]
  },
  {
   "cell_type": "code",
   "execution_count": 20,
   "id": "21906fe6-360f-441b-bee5-ec0eaeb9fd1c",
   "metadata": {},
   "outputs": [],
   "source": [
    "\n",
    "client= OpenAI()"
   ]
  },
  {
   "cell_type": "code",
   "execution_count": 13,
   "id": "700a9f71-d6f7-4d10-9da5-b7b3db8adfff",
   "metadata": {},
   "outputs": [],
   "source": [
    "import os"
   ]
  },
  {
   "cell_type": "code",
   "execution_count": 21,
   "id": "ccdb9197-9b87-41d8-97af-c486908656c3",
   "metadata": {},
   "outputs": [],
   "source": [
    "# response= client.chat.completions.create(model='gpt-3.5-turbo',messages=[{\"role\": \"user\", \"content\":\"is it too late to join the course?\"}])\n",
    "    "
   ]
  },
  {
   "cell_type": "code",
   "execution_count": null,
   "id": "fee2ca12-beb4-4abf-b2bb-964b2bcf0f44",
   "metadata": {},
   "outputs": [],
   "source": [
    "repons"
   ]
  }
 ],
 "metadata": {
  "kernelspec": {
   "display_name": "Python 3 (ipykernel)",
   "language": "python",
   "name": "python3"
  },
  "language_info": {
   "codemirror_mode": {
    "name": "ipython",
    "version": 3
   },
   "file_extension": ".py",
   "mimetype": "text/x-python",
   "name": "python",
   "nbconvert_exporter": "python",
   "pygments_lexer": "ipython3",
   "version": "3.10.13"
  }
 },
 "nbformat": 4,
 "nbformat_minor": 5
}
